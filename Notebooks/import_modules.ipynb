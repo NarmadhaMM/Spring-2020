{
 "cells": [
  {
   "cell_type": "markdown",
   "metadata": {},
   "source": [
    "# Formulas using LaTeX"
   ]
  },
  {
   "cell_type": "markdown",
   "metadata": {},
   "source": [
    "## Inline formula\n",
    "\n",
    "This is an inline $a = b + c x$ equation\n",
    "\n",
    "This is also an inline \n",
    "$a = b + c x$ \n",
    "equation"
   ]
  },
  {
   "cell_type": "markdown",
   "metadata": {},
   "source": [
    "## Block formula\n",
    "This is a block equation centered in the middle of the page\n",
    "$$ \\sigma = \\frac{1}{1 + exp(-cx)} $$"
   ]
  },
  {
   "cell_type": "markdown",
   "metadata": {},
   "source": [
    "# Python as a calculator"
   ]
  },
  {
   "cell_type": "code",
   "execution_count": 4,
   "metadata": {},
   "outputs": [
    {
     "name": "stdout",
     "output_type": "stream",
     "text": [
      "The temperature is: 7.22 Celsius\n"
     ]
    }
   ],
   "source": [
    "F = 45\n",
    "C = (F - 32) * 5/9\n",
    "print(\"The temperature is:\", round(C,2), \"Celsius\" )\n",
    "# The previous print statement contains three input arguments, each separated by a comma."
   ]
  },
  {
   "cell_type": "code",
   "execution_count": 3,
   "metadata": {},
   "outputs": [
    {
     "name": "stdout",
     "output_type": "stream",
     "text": [
      "7.22\n"
     ]
    }
   ],
   "source": [
    "# Store the rounded number in a separate variable (discouraged)\n",
    "rounded_number = round(C,2)\n",
    "print(rounded_number)"
   ]
  },
  {
   "cell_type": "markdown",
   "metadata": {},
   "source": [
    "# Access Python help\n",
    "\n",
    "My suggestion is to always visit the official Python documentation: <https://docs.python.org/3/>.\n",
    "\n",
    "Here you can access the official, latest, and complete documentation sometimes containing examples and special behavior. \n",
    "\n",
    "For instance, here is the official documentation for the `round()` function : <https://docs.python.org/3/library/functions.html?highlight=round#round>\n",
    "\n",
    "If you need quick access to learn more about the input arguments of the function below are some additional alternatives that you can use using the Python interpreter. Note that for the case of the `round()` function the options below do not provide the full documentation such as the special behavior of the function due to float representation."
   ]
  },
  {
   "cell_type": "code",
   "execution_count": 7,
   "metadata": {},
   "outputs": [
    {
     "name": "stdout",
     "output_type": "stream",
     "text": [
      "Help on built-in function round in module builtins:\n",
      "\n",
      "round(number, ndigits=None)\n",
      "    Round a number to a given precision in decimal digits.\n",
      "    \n",
      "    The return value is an integer if ndigits is omitted or None.  Otherwise\n",
      "    the return value has the same type as the number.  ndigits may be negative.\n",
      "\n"
     ]
    }
   ],
   "source": [
    "help(round) # Input by Bryan Rutter"
   ]
  },
  {
   "cell_type": "code",
   "execution_count": 8,
   "metadata": {},
   "outputs": [
    {
     "data": {
      "text/plain": [
       "\u001b[0;31mSignature:\u001b[0m \u001b[0mround\u001b[0m\u001b[0;34m(\u001b[0m\u001b[0mnumber\u001b[0m\u001b[0;34m,\u001b[0m \u001b[0mndigits\u001b[0m\u001b[0;34m=\u001b[0m\u001b[0;32mNone\u001b[0m\u001b[0;34m)\u001b[0m\u001b[0;34m\u001b[0m\u001b[0m\n",
       "\u001b[0;31mDocstring:\u001b[0m\n",
       "Round a number to a given precision in decimal digits.\n",
       "\n",
       "The return value is an integer if ndigits is omitted or None.  Otherwise\n",
       "the return value has the same type as the number.  ndigits may be negative.\n",
       "\u001b[0;31mType:\u001b[0m      builtin_function_or_method\n"
      ]
     },
     "metadata": {},
     "output_type": "display_data"
    }
   ],
   "source": [
    "round? # Input by Mohammad Bisheh"
   ]
  },
  {
   "cell_type": "markdown",
   "metadata": {},
   "source": [
    "# Importing modules"
   ]
  },
  {
   "cell_type": "code",
   "execution_count": 9,
   "metadata": {},
   "outputs": [],
   "source": [
    "# Alternative 1\n",
    "import math # import <module>\n",
    "\n",
    "# Alternative 2\n",
    "import numpy as np # import name module as <alias>\n",
    "\n",
    "# Alternative 3\n",
    "import matplotlib.pyplot as plt # import <module>.<submodule> as <alias>\n"
   ]
  },
  {
   "cell_type": "code",
   "execution_count": 12,
   "metadata": {},
   "outputs": [
    {
     "name": "stdout",
     "output_type": "stream",
     "text": [
      "3.7.0 (default, Jun 28 2018, 07:39:16) \n",
      "[Clang 4.0.1 (tags/RELEASE_401/final)]\n"
     ]
    }
   ],
   "source": [
    "# System module\n",
    "import sys\n",
    "print(sys.version)"
   ]
  },
  {
   "cell_type": "code",
   "execution_count": 16,
   "metadata": {},
   "outputs": [
    {
     "name": "stdout",
     "output_type": "stream",
     "text": [
      "time.struct_time(tm_year=2020, tm_mon=1, tm_mday=29, tm_hour=15, tm_min=14, tm_sec=11, tm_wday=2, tm_yday=29, tm_isdst=0)\n"
     ]
    }
   ],
   "source": [
    "# Time module\n",
    "import time\n",
    "\n",
    "clock = time.localtime()\n",
    "print(clock)"
   ]
  },
  {
   "cell_type": "code",
   "execution_count": 17,
   "metadata": {},
   "outputs": [
    {
     "data": {
      "text/plain": [
       "time.struct_time"
      ]
     },
     "execution_count": 17,
     "metadata": {},
     "output_type": "execute_result"
    }
   ],
   "source": [
    "type(clock)"
   ]
  },
  {
   "cell_type": "code",
   "execution_count": 23,
   "metadata": {},
   "outputs": [
    {
     "name": "stdout",
     "output_type": "stream",
     "text": [
      "14\n"
     ]
    }
   ],
   "source": [
    "print(clock.tm_min)"
   ]
  },
  {
   "cell_type": "markdown",
   "metadata": {},
   "source": [
    "## Python is synchronous\n",
    "Python executes one line at the time. A time consuming code line will delay the entire code."
   ]
  },
  {
   "cell_type": "code",
   "execution_count": 24,
   "metadata": {},
   "outputs": [
    {
     "name": "stdout",
     "output_type": "stream",
     "text": [
      "Executing step 1\n",
      "Executing step 2\n",
      "Executing step 3\n"
     ]
    }
   ],
   "source": [
    "print(\"Executing step 1\")\n",
    "print(\"Executing step 2\")\n",
    "print(\"Executing step 3\")\n"
   ]
  },
  {
   "cell_type": "code",
   "execution_count": 26,
   "metadata": {},
   "outputs": [
    {
     "name": "stdout",
     "output_type": "stream",
     "text": [
      "Executing step 1\n",
      "Executing step 2\n",
      "Executing step 3\n",
      "Python is synchronous\n"
     ]
    }
   ],
   "source": [
    "print(\"Executing step 1\")\n",
    "time.sleep(5)\n",
    "print(\"Executing step 2\")\n",
    "print(\"Executing step 3\")\n",
    "time.sleep(3)\n",
    "print('Python is synchronous')"
   ]
  }
 ],
 "metadata": {
  "kernelspec": {
   "display_name": "Python 3",
   "language": "python",
   "name": "python3"
  },
  "language_info": {
   "codemirror_mode": {
    "name": "ipython",
    "version": 3
   },
   "file_extension": ".py",
   "mimetype": "text/x-python",
   "name": "python",
   "nbconvert_exporter": "python",
   "pygments_lexer": "ipython3",
   "version": "3.7.0"
  }
 },
 "nbformat": 4,
 "nbformat_minor": 4
}
