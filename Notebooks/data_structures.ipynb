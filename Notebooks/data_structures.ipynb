{
 "cells": [
  {
   "cell_type": "markdown",
   "metadata": {},
   "source": [
    "# Data Structures\n",
    "\n",
    "Information lives in data structures. You can view thse data structures as containers in which we store information for later use or processing. The selection of the right data structure depends on the structure, format, and level of complexity of the information that we want to store. Many times the same information can be stored in more than one data structure. The choice of the right data structure will depend on the application and, to a great extent, on your experience and coding preferences.\n"
   ]
  },
  {
   "cell_type": "markdown",
   "metadata": {},
   "source": [
    "## 1. Lists\n",
    "\n",
    "Lists are great for storing short or long sequences of elements. One of the most distinct features is that we access information stored in lists by using either a positional index (retrieve single item) or slicing (retrieve one or more items). Lists are the typical arrays in other languages. I think it is worth mentioning that the standard Python lists cannot handle element-wise operations. For this we need use Numpy arrays, which we will cover later.\n",
    "\n",
    "List can have mixed data types and are `mutable`, which means that we can overwrite the information. This `mutable` capability can be good and bad. If we want to prevent accidentally changing the information of the list, then it could lead to some serious issues. On the other hand, if we want to re-define or update a variable then this feature is convenient."
   ]
  },
  {
   "cell_type": "code",
   "execution_count": 7,
   "metadata": {},
   "outputs": [
    {
     "name": "stdout",
     "output_type": "stream",
     "text": [
      "[2, 3, 5, 7, 11, 13, 17]\n"
     ]
    },
    {
     "data": {
      "text/plain": [
       "list"
      ]
     },
     "execution_count": 7,
     "metadata": {},
     "output_type": "execute_result"
    }
   ],
   "source": [
    "# Simple list\n",
    "list_primes = [2, 3, 5, 7, 11, 13, 17]  # A row vector\n",
    "print(list_primes)\n",
    "type(list_primes)"
   ]
  },
  {
   "cell_type": "code",
   "execution_count": 9,
   "metadata": {},
   "outputs": [
    {
     "name": "stdout",
     "output_type": "stream",
     "text": [
      "[31, 37, 41, 43]\n"
     ]
    }
   ],
   "source": [
    "# Re-define list (they are mutable)\n",
    "list_primes = [31, 37, 41, 43]\n",
    "print(list_primes)"
   ]
  },
  {
   "cell_type": "code",
   "execution_count": 10,
   "metadata": {},
   "outputs": [
    {
     "data": {
      "text/plain": [
       "4"
      ]
     },
     "execution_count": 10,
     "metadata": {},
     "output_type": "execute_result"
    }
   ],
   "source": [
    "# Determine the number of elements in a list\n",
    "len(list_primes)"
   ]
  },
  {
   "cell_type": "code",
   "execution_count": 11,
   "metadata": {},
   "outputs": [
    {
     "name": "stdout",
     "output_type": "stream",
     "text": [
      "[1, 2, 3, 4, 'five', 'six']\n"
     ]
    }
   ],
   "source": [
    "mixed_list = [1, 2, 3, 4, 'five', 'six']\n",
    "print(mixed_list)"
   ]
  },
  {
   "cell_type": "code",
   "execution_count": 18,
   "metadata": {},
   "outputs": [
    {
     "name": "stdout",
     "output_type": "stream",
     "text": [
      "1980\n",
      "['sand', 'silt', 'clay']\n",
      "silt\n",
      "c\n"
     ]
    }
   ],
   "source": [
    "# Lists can be nested\n",
    "nested_list = [1980, 1990, 2000, 2010,['sand','silt','clay']]\n",
    "\n",
    "print(nested_list[0])         # Access first element of list in the first position\n",
    "print(nested_list[4])         # Access list in second position\n",
    "print(nested_list[4][1])      # Access 'silt'\n",
    "print(nested_list[4][2][0])   # Access the 'c' in 'clay'"
   ]
  },
  {
   "cell_type": "code",
   "execution_count": 22,
   "metadata": {},
   "outputs": [
    {
     "name": "stdout",
     "output_type": "stream",
     "text": [
      "['sand', 'silt', 'clay']\n",
      "[1980, 1990, 2000, 2010, ['sand', 'silt', 'clay']]\n"
     ]
    }
   ],
   "source": [
    "# Extract and save a nested list in a different variable\n",
    "particles = nested_list[4]\n",
    "print(particles)    # Copy information and store in a variable with a different name\n",
    "print(nested_list)  # This list remains untouched"
   ]
  },
  {
   "cell_type": "code",
   "execution_count": 24,
   "metadata": {},
   "outputs": [
    {
     "data": {
      "text/plain": [
       "1"
      ]
     },
     "execution_count": 24,
     "metadata": {},
     "output_type": "execute_result"
    }
   ],
   "source": [
    "# Count method\n",
    "nested_list.count(2000) # Count specific element. Takes only one argument\n"
   ]
  },
  {
   "cell_type": "code",
   "execution_count": 32,
   "metadata": {},
   "outputs": [
    {
     "data": {
      "text/plain": [
       "3"
      ]
     },
     "execution_count": 32,
     "metadata": {},
     "output_type": "execute_result"
    }
   ],
   "source": [
    "# Index of specific entry\n",
    "nested_list.index(2010) "
   ]
  },
  {
   "cell_type": "markdown",
   "metadata": {},
   "source": [
    "**Will the following command work?**\n",
    "\n",
    "```python\n",
    "nested_list.index('sand')\n",
    "```\n",
    "\n",
    "**Solution**\n",
    "```python\n",
    "nested_list[4].index('sand')\n",
    "```\n"
   ]
  },
  {
   "cell_type": "code",
   "execution_count": 29,
   "metadata": {},
   "outputs": [
    {
     "name": "stdout",
     "output_type": "stream",
     "text": [
      "[1980, 1990, 2000, 2010, ['sand', 'silt', 'clay'], [2020, 2030]]\n"
     ]
    }
   ],
   "source": [
    "nested_list.append([2020,2030])\n",
    "print(nested_list)"
   ]
  },
  {
   "cell_type": "code",
   "execution_count": 33,
   "metadata": {},
   "outputs": [
    {
     "name": "stdout",
     "output_type": "stream",
     "text": [
      "[]\n"
     ]
    }
   ],
   "source": [
    "# Clear list and check that list was cleared (it should print empty brackets)\n",
    "nested_list.clear()\n",
    "print(nested_list)"
   ]
  },
  {
   "cell_type": "code",
   "execution_count": 2,
   "metadata": {},
   "outputs": [
    {
     "data": {
      "text/plain": [
       "'a'"
      ]
     },
     "execution_count": 2,
     "metadata": {},
     "output_type": "execute_result"
    }
   ],
   "source": [
    "# Here is a more challenging example:\n",
    "new_list = [ [1,2,3] , [4,5,6, ['a','b','c']] ]\n",
    "new_list[1][3][0]"
   ]
  },
  {
   "cell_type": "markdown",
   "metadata": {},
   "source": [
    "**What letter will the following Python command return?**\n",
    "```python\n",
    "new_list[1][3][0]\n",
    "```\n",
    "\n",
    "**Solution**\n",
    "```python\n",
    "'a'\n",
    "```"
   ]
  },
  {
   "cell_type": "markdown",
   "metadata": {},
   "source": [
    "### Creating a 2D matrix\n"
   ]
  },
  {
   "cell_type": "code",
   "execution_count": 17,
   "metadata": {},
   "outputs": [
    {
     "name": "stdout",
     "output_type": "stream",
     "text": [
      "[[1, 4, 5], [-5, 8, 9]]\n"
     ]
    }
   ],
   "source": [
    "M = [[1, 4, 5],\n",
    "    [-5, 8, 9]]\n",
    "print(M)"
   ]
  },
  {
   "cell_type": "markdown",
   "metadata": {},
   "source": [
    "### Append single element to a list"
   ]
  },
  {
   "cell_type": "code",
   "execution_count": 15,
   "metadata": {},
   "outputs": [
    {
     "name": "stdout",
     "output_type": "stream",
     "text": [
      "['Gelisols', 'Histosols', 'Spodosols', 'Andisols']\n"
     ]
    }
   ],
   "source": [
    "# Append a single element\n",
    "soil_orders = ['Gelisols','Histosols','Spodosols']\n",
    "soil_orders.append('Andisols') # Add new item to the existing list\n",
    "print(soil_orders)\n"
   ]
  },
  {
   "cell_type": "markdown",
   "metadata": {},
   "source": [
    "### Append multiple elements to a list"
   ]
  },
  {
   "cell_type": "code",
   "execution_count": 35,
   "metadata": {},
   "outputs": [
    {
     "name": "stdout",
     "output_type": "stream",
     "text": [
      "['Gelisols', 'Histosols', 'Spodosols', ['Oxisols', 'Aridisols', 'Vertisols', 'Ultisols']]\n"
     ]
    }
   ],
   "source": [
    "# Append multiple elements\n",
    "soil_orders = ['Gelisols','Histosols','Spodosols']\n",
    "extra_soil_orders = ['Oxisols','Aridisols','Vertisols','Ultisols']\n",
    "soil_orders.append(extra_soil_orders)\n",
    "print(soil_orders)\n"
   ]
  },
  {
   "cell_type": "markdown",
   "metadata": {},
   "source": [
    ">Note the difference in the output list between `append()` in the previous code cell and `extend()` in the following code cell. In the previous cell the appended list appears nested, while the `extend()` method truly merges both lists to make a single, larger list."
   ]
  },
  {
   "cell_type": "markdown",
   "metadata": {},
   "source": [
    "### Merge lists"
   ]
  },
  {
   "cell_type": "code",
   "execution_count": 12,
   "metadata": {},
   "outputs": [
    {
     "name": "stdout",
     "output_type": "stream",
     "text": [
      "['Gelisols', 'Histosols', 'Spodosols', 'Oxisols', 'Aridisols', 'Vertisols']\n"
     ]
    }
   ],
   "source": [
    "# Extend list\n",
    "soil_orders = ['Gelisols','Histosols','Spodosols']\n",
    "extra_soil_orders = ['Oxisols','Aridisols','Vertisols']\n",
    "\n",
    "soil_orders.extend(extra_soil_orders)\n",
    "print(soil_orders)\n"
   ]
  },
  {
   "cell_type": "markdown",
   "metadata": {},
   "source": [
    "### Delete element from list"
   ]
  },
  {
   "cell_type": "code",
   "execution_count": 13,
   "metadata": {},
   "outputs": [
    {
     "name": "stdout",
     "output_type": "stream",
     "text": [
      "['Gelisols', 'Histosols', 'Spodosols', 'Oxisols', 'Aridisols', 'Vertisols']\n",
      "['Gelisols', 'Spodosols', 'Oxisols', 'Aridisols', 'Vertisols']\n"
     ]
    }
   ],
   "source": [
    "# Eliminate last element\n",
    "print(soil_orders) # Print original list\n",
    "soil_orders.pop(1) # Eliminate the second element of the list and print remaining elements\n",
    "print(soil_orders)\n"
   ]
  },
  {
   "cell_type": "code",
   "execution_count": 14,
   "metadata": {},
   "outputs": [
    {
     "name": "stdout",
     "output_type": "stream",
     "text": [
      "['Gelisols', 'Aridisols', 'Vertisols']\n"
     ]
    }
   ],
   "source": [
    "# An alternative method to delete one or more elements of the list.\n",
    "del soil_orders[1:3]\n",
    "print(soil_orders)"
   ]
  },
  {
   "cell_type": "markdown",
   "metadata": {},
   "source": [
    "## 2. Tuples\n",
    "\n",
    "Tuples are perhaps not as popular as lists, but they have an important property: they are `immutable`. Let's define a tuple and try to change its content to see what happens.\n"
   ]
  },
  {
   "cell_type": "code",
   "execution_count": 38,
   "metadata": {},
   "outputs": [
    {
     "data": {
      "text/plain": [
       "tuple"
      ]
     },
     "execution_count": 38,
     "metadata": {},
     "output_type": "execute_result"
    }
   ],
   "source": [
    "# Tuples (immutable)\n",
    "mytuple = (1,2,3)\n",
    "type(mytuple)\n"
   ]
  },
  {
   "cell_type": "code",
   "execution_count": null,
   "metadata": {},
   "outputs": [],
   "source": [
    "mytuple[0] = 11; # This will throw an error. We can't change the value of a tuple (immutable)."
   ]
  },
  {
   "cell_type": "markdown",
   "metadata": {},
   "source": [
    "## 3. Dictionaries\n",
    "\n",
    "Dictionaries are an extremely versatile data structure. One of the most powerful features is the ability to store and retrieve information using names. When we use lists we need to know the content in each postion of the list to retrieve the right piece of information. If we don't then we need to do some sort of matching process. With `dictionaries` this type of operations are easier and much more intuitive. Often times our datasets contain names of cities, laboratories, treatments, etc. that we can easily remember and use to access data.\n",
    "\n",
    "Dictionaries are defined using `{}` and data inside dictionaries is associated to names using `name:value` pairs."
   ]
  },
  {
   "cell_type": "code",
   "execution_count": 20,
   "metadata": {},
   "outputs": [
    {
     "name": "stdout",
     "output_type": "stream",
     "text": [
      "['Argentina', 'Brazil', 'USA']\n",
      "-5\n"
     ]
    }
   ],
   "source": [
    "# A dictionary (key:value pairs, similar to JSON)\n",
    "myDict = {'country': ['Argentina','Brazil','USA'], \n",
    "          'capital': ['Buenos Aires','Brasilia','Washington D.C.'],\n",
    "          'airTemp': [28, 34, -5,]}\n",
    "\n",
    "print(myDict['country'])\n",
    "print(myDict['airTemp'][2])"
   ]
  },
  {
   "cell_type": "markdown",
   "metadata": {},
   "source": [
    "Much of the data in the internet is stored and transferred using structures similar to dictionaries called JSON (Javascript Object Notation). These JSON structures are very much like Python dictionaries. Below I retrieved a some weather data from [OpenWeatherMap.org](https://openweathermap.org/) weather API documentation for the city of London. You can find more recent weather information at [this link.](api.openweathermap.org/data/2.5/weather?q=London/)\n"
   ]
  },
  {
   "cell_type": "code",
   "execution_count": 22,
   "metadata": {},
   "outputs": [
    {
     "name": "stdout",
     "output_type": "stream",
     "text": [
      "-0.13\n",
      "4.1\n"
     ]
    }
   ],
   "source": [
    "# Here is a more concrete example using actual weather data obtained from OpenWeatherMap:\n",
    "\n",
    "data = {\"coord\":{\"lon\":-0.13,\"lat\":51.51},\n",
    "        \"weather\":[{\"description\":\"light intensity drizzle\"}],\n",
    "        \"base\":\"stations\",\n",
    "        \"main\":{\"temp\":280.32,\"pressure\":1012,\"humidity\":81},\n",
    "        \"visibility\":10000,\n",
    "        \"wind\":{\"speed\":4.1,\"deg\":80},\n",
    "        \"clouds\":{\"all\":90},\n",
    "        \"dt\":1485789600,\n",
    "        \"sys\":{\"country\":\"GB\",\"sunrise\":1485762037},\n",
    "        \"id\":2643743,\n",
    "        \"name\":\"London\",\n",
    "        \"cod\":200}\n",
    "\n",
    "print(data['coord']['lon'])\n",
    "print(data['wind']['speed']) # Using apostrophes\n"
   ]
  },
  {
   "cell_type": "code",
   "execution_count": 43,
   "metadata": {},
   "outputs": [
    {
     "name": "stdout",
     "output_type": "stream",
     "text": [
      "['coord', 'weather', 'base', 'main', 'visibility', 'wind', 'clouds', 'dt', 'sys', 'id', 'name', 'cod']\n"
     ]
    }
   ],
   "source": [
    "# Get all the keys in a list\n",
    "print([*data])"
   ]
  },
  {
   "cell_type": "markdown",
   "metadata": {},
   "source": [
    "## 4. Sets"
   ]
  },
  {
   "cell_type": "code",
   "execution_count": 44,
   "metadata": {},
   "outputs": [
    {
     "name": "stdout",
     "output_type": "stream",
     "text": [
      "{'California', 'Alaska', 'Kansas', 'Texas'}\n",
      "True\n",
      "False\n"
     ]
    }
   ],
   "source": [
    "# Sets (set of unique values, test membership)\n",
    "\n",
    "states = ['Kansas', 'Texas', 'California', 'Texas', 'Alaska', 'Kansas']\n",
    "uniqueStates = set(states) # \n",
    "print(uniqueStates)\n",
    "\n",
    "print('Kansas' in uniqueStates) # Testing membership (True)\n",
    "print('Iowa' in uniqueStates)   # Testing membership (False)"
   ]
  },
  {
   "cell_type": "code",
   "execution_count": 54,
   "metadata": {},
   "outputs": [
    {
     "name": "stdout",
     "output_type": "stream",
     "text": [
      "{'A', 'G', 'T'}\n",
      "{'A', 'G', 'C', 'T'}\n"
     ]
    }
   ],
   "source": [
    "dna1 = set('ATTTGAATTA') # DNA sequence 1\n",
    "dna2 = set('GGATTCGCGT') # DNA sequence 2\n",
    "\n",
    "# Print unique bases in each DNA sequence\n",
    "print(dna1)\n",
    "print(dna2)"
   ]
  }
 ],
 "metadata": {
  "kernelspec": {
   "display_name": "Python 3",
   "language": "python",
   "name": "python3"
  },
  "language_info": {
   "codemirror_mode": {
    "name": "ipython",
    "version": 3
   },
   "file_extension": ".py",
   "mimetype": "text/x-python",
   "name": "python",
   "nbconvert_exporter": "python",
   "pygments_lexer": "ipython3",
   "version": "3.7.0"
  }
 },
 "nbformat": 4,
 "nbformat_minor": 2
}
