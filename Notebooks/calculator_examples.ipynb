{
 "cells": [
  {
   "cell_type": "markdown",
   "metadata": {},
   "source": [
    "# Calculator examples \n",
    "\n",
    "Simple examples of using Python as a regular calculator."
   ]
  },
  {
   "cell_type": "markdown",
   "metadata": {},
   "source": [
    "## Convert from degrees Fahrenheit to Celsius"
   ]
  },
  {
   "cell_type": "code",
   "execution_count": 2,
   "metadata": {},
   "outputs": [
    {
     "name": "stdout",
     "output_type": "stream",
     "text": [
      "The temperature is: 7.22 degrees Celsius\n"
     ]
    }
   ],
   "source": [
    "fahrenheit = 45\n",
    "celsius = (fahrenheit - 32) * 5/9\n",
    "print(\"The temperature is:\", round(celsius,2), \"degrees Celsius\")\n"
   ]
  },
  {
   "cell_type": "markdown",
   "metadata": {},
   "source": [
    "**Question**: Why do we need to separate inputs by commas?\n",
    "\n",
    "**Answer**: The print function can take multiple arguments as inputs. In this context, a comma act as a delimiter between the inputs."
   ]
  },
  {
   "cell_type": "markdown",
   "metadata": {},
   "source": [
    "## Convert from inches to meters"
   ]
  },
  {
   "cell_type": "code",
   "execution_count": 7,
   "metadata": {},
   "outputs": [
    {
     "name": "stdout",
     "output_type": "stream",
     "text": [
      "72 inches are equivalent to 182.9 meters\n"
     ]
    }
   ],
   "source": [
    "inches = 72 # inches\n",
    "meters = inches * 2.54\n",
    "print(round(inches,1),\"inches are equivalent to\",round(meters,1),\"meters\")\n"
   ]
  },
  {
   "cell_type": "markdown",
   "metadata": {},
   "source": [
    "## Compute the hypotenuse\n",
    "\n",
    "Given that `a` and `b` are the sides of a right triangle, compute the hypotenuse. For instance, if `a = 3` and `b = 4`, then the command must return a value of `5`."
   ]
  },
  {
   "cell_type": "code",
   "execution_count": 8,
   "metadata": {},
   "outputs": [
    {
     "name": "stdout",
     "output_type": "stream",
     "text": [
      "Hypotenuse is: 6.26 cm\n"
     ]
    }
   ],
   "source": [
    "a = 3.0 # [cm]\n",
    "b = 5.5 # [cm]\n",
    "hypotenuse = (a**2 + b**2)**0.5\n",
    "print('Hypotenuse is:', round(hypotenuse,2),'cm')\n"
   ]
  }
 ],
 "metadata": {
  "kernelspec": {
   "display_name": "Python 3",
   "language": "python",
   "name": "python3"
  },
  "language_info": {
   "codemirror_mode": {
    "name": "ipython",
    "version": 3
   },
   "file_extension": ".py",
   "mimetype": "text/x-python",
   "name": "python",
   "nbconvert_exporter": "python",
   "pygments_lexer": "ipython3",
   "version": "3.7.0"
  }
 },
 "nbformat": 4,
 "nbformat_minor": 4
}
