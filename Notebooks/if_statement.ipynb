{
 "cells": [
  {
   "cell_type": "markdown",
   "metadata": {},
   "source": [
    "# If statements\n",
    "\n",
    "The `if` statements play a fundamental role controlling the logical flow of the code. A sequence of decision rules instruct the computer to execut specific commands. If statements evaluate whether a condition is `True` or `False` and at that point the code bifurcates. Sometimes there multiple conditions as part of a single `If` statements, in which the code could branch into many different options."
   ]
  },
  {
   "cell_type": "markdown",
   "metadata": {},
   "source": [
    "## Odd or even?\n",
    "\n",
    "A simple exercise to learn the basic structure of `If` staments is to compute and print whether a given number is odd or even. Even numbers are divisible by 2 with a reminder of zero whereas odd numbers are not divisible by 2 and have remainder greater than zero. To perform this operation we can use the Python `modulo` operator, which represented by `%`."
   ]
  },
  {
   "cell_type": "code",
   "execution_count": 16,
   "metadata": {},
   "outputs": [
    {
     "name": "stdout",
     "output_type": "stream",
     "text": [
      "Number is even\n"
     ]
    }
   ],
   "source": [
    "# If and Else statement\n",
    "value = 8\n",
    "\n",
    "if value % 2 == 0:\n",
    "    print('Number is even')\n",
    "else:\n",
    "    print('Number is odd')\n"
   ]
  },
  {
   "cell_type": "markdown",
   "metadata": {},
   "source": [
    "Using the same code within a `for loop` we can easily check all the numbers from one to ten."
   ]
  },
  {
   "cell_type": "code",
   "execution_count": 35,
   "metadata": {},
   "outputs": [
    {
     "name": "stdout",
     "output_type": "stream",
     "text": [
      "Number 1 is odd\n",
      "Number 2 is even\n",
      "Number 3 is odd\n",
      "Number 4 is even\n",
      "Number 5 is odd\n",
      "Number 6 is even\n",
      "Number 7 is odd\n",
      "Number 8 is even\n",
      "Number 9 is odd\n",
      "Number 10 is even\n"
     ]
    }
   ],
   "source": [
    "for value in range(1,11):\n",
    "    if value % 2 == 0:\n",
    "        print('Number',value,'is even')\n",
    "    else:\n",
    "        print('Number',value,'is odd')\n",
    "        "
   ]
  },
  {
   "cell_type": "markdown",
   "metadata": {},
   "source": [
    "`If statements` allow us to include multiple options using the `elif` (else if) keyword accompained by a conditional statement. Let's look at an example involving multiple options, in this case the base temperature for plant development."
   ]
  },
  {
   "cell_type": "code",
   "execution_count": 43,
   "metadata": {},
   "outputs": [
    {
     "name": "stdout",
     "output_type": "stream",
     "text": [
      "Tbase for wheat is 0 degrees Celsius\n"
     ]
    }
   ],
   "source": [
    "vegetation = 'wheat'\n",
    "\n",
    "if vegetation == 'corn':\n",
    "    Tbase = 8\n",
    "    \n",
    "elif vegetation == 'wheat':\n",
    "    Tbase = 0\n",
    "\n",
    "elif vegetation == 'bluestem':\n",
    "    Tbase = 12\n",
    "\n",
    "else:\n",
    "    print('Crop not found. Your input was:',vegetation)\n",
    "    \n",
    "print('Tbase for',vegetation,'is',Tbase,'degrees Celsius')"
   ]
  },
  {
   "cell_type": "markdown",
   "metadata": {},
   "source": [
    "## Find leap years\n",
    "\n",
    "Every year that is exactly divisible by four is a leap year, except for years that are exactly divisible by 100, but these centurial years are leap years if they are exactly divisible by 400. For example, the years 1700, 1800, and 1900 are not leap years, but the years 1600 and 2000 are (United States Naval Observatory)."
   ]
  },
  {
   "cell_type": "code",
   "execution_count": 30,
   "metadata": {},
   "outputs": [
    {
     "name": "stdout",
     "output_type": "stream",
     "text": [
      "2000 is a leap year.\n"
     ]
    }
   ],
   "source": [
    "# Leap years\n",
    "year = 2000\n",
    "\n",
    "if year%4 == 0:\n",
    "    if year%100 > 0:\n",
    "        print(year,'is a leap year.')\n",
    "    else:\n",
    "        if year%400 == 0:\n",
    "            print(year,'is a leap year.')\n",
    "        else:\n",
    "            print(year,'is not a leap year.')\n",
    "else:\n",
    "    print(year,'is not a leap year.')\n"
   ]
  }
 ],
 "metadata": {
  "kernelspec": {
   "display_name": "Python 3",
   "language": "python",
   "name": "python3"
  },
  "language_info": {
   "codemirror_mode": {
    "name": "ipython",
    "version": 3
   },
   "file_extension": ".py",
   "mimetype": "text/x-python",
   "name": "python",
   "nbconvert_exporter": "python",
   "pygments_lexer": "ipython3",
   "version": "3.7.0"
  }
 },
 "nbformat": 4,
 "nbformat_minor": 2
}
