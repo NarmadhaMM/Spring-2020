{
 "cells": [
  {
   "cell_type": "code",
   "execution_count": 1,
   "metadata": {},
   "outputs": [],
   "source": [
    "import glob"
   ]
  },
  {
   "cell_type": "code",
   "execution_count": 3,
   "metadata": {},
   "outputs": [
    {
     "name": "stdout",
     "output_type": "stream",
     "text": [
      "/Users/andrespatrignani/Dropbox/Teaching/Scientific programming/Spring 2020\n"
     ]
    }
   ],
   "source": [
    "# Get current working directory\n",
    "print(glob.os.getcwd())"
   ]
  },
  {
   "cell_type": "code",
   "execution_count": 4,
   "metadata": {},
   "outputs": [],
   "source": [
    "glob.os.chdir('..')"
   ]
  },
  {
   "cell_type": "code",
   "execution_count": 6,
   "metadata": {},
   "outputs": [
    {
     "name": "stdout",
     "output_type": "stream",
     "text": [
      "/Users/andrespatrignani/Dropbox/Teaching/Scientific programming\n"
     ]
    }
   ],
   "source": [
    "print(glob.os.getcwd())"
   ]
  },
  {
   "cell_type": "code",
   "execution_count": 7,
   "metadata": {},
   "outputs": [],
   "source": [
    "glob.os.chdir('Spring 2020')"
   ]
  },
  {
   "cell_type": "code",
   "execution_count": 9,
   "metadata": {},
   "outputs": [
    {
     "name": "stdout",
     "output_type": "stream",
     "text": [
      "/Users/andrespatrignani/Dropbox/Teaching/Scientific programming/Spring 2020\n"
     ]
    }
   ],
   "source": [
    "print(glob.os.getcwd())"
   ]
  },
  {
   "cell_type": "code",
   "execution_count": 11,
   "metadata": {},
   "outputs": [
    {
     "name": "stdout",
     "output_type": "stream",
     "text": [
      "['.DS_Store', '.ipynb_checkpoints', 'course_flyer_AGRON_935.docx', 'course_flyer_AGRON_935.pdf', 'datetime_module.ipynb', 'glob_module.ipynb', 'input.ipynb', 'lecture_notes.ipynb', 'lecture_notes.md', 'math_module.ipynb', 'schedule_2020.xlsx', 'Spring-2020', 'syllabus_AGRON_935_SP_2020.docx', 'syllabus_AGRON_935_SP_2020.ipynb', 'syllabus_AGRON_935_SP_2020.pdf', '~$schedule_2020.xlsx']\n"
     ]
    }
   ],
   "source": [
    "print(glob.os.listdir())"
   ]
  },
  {
   "cell_type": "code",
   "execution_count": 12,
   "metadata": {},
   "outputs": [
    {
     "name": "stdout",
     "output_type": "stream",
     "text": [
      "schedule_2020.xlsx\n",
      "~$schedule_2020.xlsx\n"
     ]
    }
   ],
   "source": [
    "# Bonus\n",
    "xlsfiles = []\n",
    "for file in glob.glob('*.xlsx'):\n",
    "    xlsfiles.append(file)\n",
    "    print(file)"
   ]
  }
 ],
 "metadata": {
  "kernelspec": {
   "display_name": "Python 3",
   "language": "python",
   "name": "python3"
  },
  "language_info": {
   "codemirror_mode": {
    "name": "ipython",
    "version": 3
   },
   "file_extension": ".py",
   "mimetype": "text/x-python",
   "name": "python",
   "nbconvert_exporter": "python",
   "pygments_lexer": "ipython3",
   "version": "3.7.0"
  }
 },
 "nbformat": 4,
 "nbformat_minor": 2
}
