{
 "cells": [
  {
   "cell_type": "markdown",
   "metadata": {},
   "source": [
    "# Datetime module\n",
    "\n",
    "The `datetime` module is useful to handle arithmetic operations that involve timestamps. With this module we can extract the day, month, year, and even milliseconds from a datetime object and then do some sort of computation with it. The `datetime` module also allows for changing the string format without affecting the timestamp infomration."
   ]
  },
  {
   "cell_type": "code",
   "execution_count": 2,
   "metadata": {},
   "outputs": [],
   "source": [
    "import datetime"
   ]
  },
  {
   "cell_type": "code",
   "execution_count": 3,
   "metadata": {},
   "outputs": [
    {
     "name": "stdout",
     "output_type": "stream",
     "text": [
      "2020-01-26 20:57:59.335297\n"
     ]
    }
   ],
   "source": [
    "# Get current date\n",
    "currentDate = datetime.datetime.now()\n",
    "print(currentDate)"
   ]
  },
  {
   "cell_type": "code",
   "execution_count": 4,
   "metadata": {},
   "outputs": [
    {
     "name": "stdout",
     "output_type": "stream",
     "text": [
      "26\n",
      "2020-01-26\n",
      "1\n",
      "57\n"
     ]
    }
   ],
   "source": [
    "# Specific component of the date (e.g. day, hour, day of the week, etc.)\n",
    "print(currentDate.day)\n",
    "print(currentDate.date())\n",
    "print(currentDate.month)\n",
    "print(currentDate.minute)"
   ]
  },
  {
   "cell_type": "markdown",
   "metadata": {},
   "source": [
    "## Output formats"
   ]
  },
  {
   "cell_type": "code",
   "execution_count": 5,
   "metadata": {},
   "outputs": [
    {
     "name": "stdout",
     "output_type": "stream",
     "text": [
      "Jan\n",
      "January\n",
      "20\n",
      "2020\n",
      "26\n",
      "Sun Jan 26 20:57:59 2020\n",
      "01/26/20\n"
     ]
    }
   ],
   "source": [
    "# Example month format\n",
    "print(currentDate.strftime(\"%b\"))\n",
    "print(currentDate.strftime(\"%B\"))\n",
    "\n",
    "# Example year format\n",
    "print(currentDate.strftime(\"%y\"))\n",
    "print(currentDate.strftime(\"%Y\"))\n",
    "\n",
    "# Example day format\n",
    "print(currentDate.strftime(\"%d\"))\n",
    "\n",
    "# Example full date format\n",
    "print(currentDate.strftime(\"%c\"))\n",
    "print(currentDate.strftime(\"%x\"))\n"
   ]
  },
  {
   "cell_type": "markdown",
   "metadata": {},
   "source": [
    "## Build a date\n",
    "\n",
    "To create a datetime we use the `datetime.datetime(year, month, day, hour, minute, second, microseconds)` method. It is also possible to generate a new datetime object by only passing a limited number of inputs, such as `datetime.datetime(year, month, day)`."
   ]
  },
  {
   "cell_type": "code",
   "execution_count": 6,
   "metadata": {},
   "outputs": [
    {
     "name": "stdout",
     "output_type": "stream",
     "text": [
      "2018-06-01 08:00:00.000005\n",
      "2018-06-01 00:00:00\n"
     ]
    }
   ],
   "source": [
    "print(datetime.datetime(2018, 6, 1, 8, 0, 0, 5))\n",
    "print(datetime.datetime(2018, 6, 1))"
   ]
  },
  {
   "cell_type": "markdown",
   "metadata": {},
   "source": [
    "## Arthmetic operations with dates\n",
    "\n",
    "Operations with dates are easy using this module. In fact, since handling dates can sometimes be tricky, it is highly recommended to use a module to handle dates to avoid introducing errors."
   ]
  },
  {
   "cell_type": "code",
   "execution_count": 8,
   "metadata": {},
   "outputs": [],
   "source": [
    "date_start = datetime.datetime(2018, 6, 1)\n",
    "date_end = datetime.datetime.now()\n",
    "date_diff = date_end - date_start;"
   ]
  },
  {
   "cell_type": "code",
   "execution_count": 9,
   "metadata": {},
   "outputs": [
    {
     "name": "stdout",
     "output_type": "stream",
     "text": [
      "<class 'datetime.datetime'>\n",
      "<class 'datetime.timedelta'>\n"
     ]
    }
   ],
   "source": [
    "print(type(date_start))  # Class datetime\n",
    "print(type(date_diff))   # Class timedelta"
   ]
  },
  {
   "cell_type": "markdown",
   "metadata": {},
   "source": [
    "# Working with seconds\n",
    "\n",
    "Converting any date and time into seconds also enables the use seconds as a sort of digital number that we can employ to carry operations in a single unit of time. For instance, once we know the difference between two dates in terms of seconds we can integrate this information with the `math` module."
   ]
  },
  {
   "cell_type": "code",
   "execution_count": 11,
   "metadata": {},
   "outputs": [
    {
     "name": "stdout",
     "output_type": "stream",
     "text": [
      "52262101.354337\n"
     ]
    }
   ],
   "source": [
    "print(date_diff.total_seconds()) # Only for timedelta datatype "
   ]
  },
  {
   "cell_type": "code",
   "execution_count": 12,
   "metadata": {},
   "outputs": [
    {
     "name": "stdout",
     "output_type": "stream",
     "text": [
      "52262101\n"
     ]
    }
   ],
   "source": [
    "import math\n",
    "print(math.floor(date_diff.total_seconds())) # Only for timedelta datatype"
   ]
  },
  {
   "cell_type": "markdown",
   "metadata": {},
   "source": [
    "## References\n",
    "\n",
    "Official docs: https://docs.python.org/3/library/datetime.html\n",
    "\n",
    "Data formats: https://www.w3schools.com/python/python_datetime.asp"
   ]
  }
 ],
 "metadata": {
  "kernelspec": {
   "display_name": "Python 3",
   "language": "python",
   "name": "python3"
  },
  "language_info": {
   "codemirror_mode": {
    "name": "ipython",
    "version": 3
   },
   "file_extension": ".py",
   "mimetype": "text/x-python",
   "name": "python",
   "nbconvert_exporter": "python",
   "pygments_lexer": "ipython3",
   "version": "3.7.0"
  }
 },
 "nbformat": 4,
 "nbformat_minor": 4
}
