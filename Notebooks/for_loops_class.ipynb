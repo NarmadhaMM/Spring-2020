{
 "cells": [
  {
   "cell_type": "code",
   "execution_count": 4,
   "metadata": {},
   "outputs": [
    {
     "name": "stdout",
     "output_type": "stream",
     "text": [
      "range(0, 5)\n"
     ]
    }
   ],
   "source": [
    "list_of_items = range(0,5)\n",
    "print(list_of_items)\n"
   ]
  },
  {
   "cell_type": "code",
   "execution_count": 9,
   "metadata": {},
   "outputs": [
    {
     "name": "stdout",
     "output_type": "stream",
     "text": [
      "0\n",
      "1\n",
      "2\n",
      "3\n",
      "4\n"
     ]
    }
   ],
   "source": [
    "for item in list_of_items:\n",
    "    print(item)"
   ]
  },
  {
   "cell_type": "code",
   "execution_count": 12,
   "metadata": {},
   "outputs": [
    {
     "name": "stdout",
     "output_type": "stream",
     "text": [
      "mollisols\n",
      "hapludols\n",
      "alfisols\n"
     ]
    }
   ],
   "source": [
    "soils = ['mollisols','hapludols','alfisols']\n",
    "\n",
    "for taxonomic_order in soils:\n",
    "    print(taxonomic_order)"
   ]
  },
  {
   "cell_type": "code",
   "execution_count": 17,
   "metadata": {},
   "outputs": [
    {
     "name": "stdout",
     "output_type": "stream",
     "text": [
      "0\n",
      "mollisols\n",
      "1\n",
      "hapludols\n",
      "2\n",
      "alfisols\n"
     ]
    }
   ],
   "source": [
    "soils = ['mollisols','hapludols','alfisols']\n",
    "for count,soil in enumerate (soils):\n",
    "    print(count)\n",
    "    print(soil)"
   ]
  },
  {
   "cell_type": "code",
   "execution_count": 23,
   "metadata": {},
   "outputs": [],
   "source": [
    "plots = range(1,4)\n",
    "treatments = ['a','b','c']\n",
    "myplots = []\n",
    "for plot in plots:\n",
    "    for tmt in treatments:\n",
    "        myplots.append(str(plot)+tmt)"
   ]
  },
  {
   "cell_type": "code",
   "execution_count": 25,
   "metadata": {},
   "outputs": [
    {
     "data": {
      "text/plain": [
       "['1a', '1b', '1c', '2a', '2b', '2c', '3a', '3b', '3c']"
      ]
     },
     "execution_count": 25,
     "metadata": {},
     "output_type": "execute_result"
    }
   ],
   "source": [
    "myplots"
   ]
  },
  {
   "cell_type": "code",
   "execution_count": 28,
   "metadata": {},
   "outputs": [
    {
     "name": "stdout",
     "output_type": "stream",
     "text": [
      "0\n",
      "1\n",
      "2\n",
      "3\n",
      "4\n",
      "5\n"
     ]
    }
   ],
   "source": [
    "# Break a for loop\n",
    "for i in range(10):\n",
    "    print(i)\n",
    "    if i == 5:\n",
    "        break\n",
    "        \n"
   ]
  },
  {
   "cell_type": "code",
   "execution_count": 31,
   "metadata": {},
   "outputs": [
    {
     "name": "stdout",
     "output_type": "stream",
     "text": [
      "THis is an ugly day\n"
     ]
    }
   ],
   "source": [
    "# If statements\n",
    "air_temperature = 24\n",
    "\n",
    "if air_temperature == 25:\n",
    "    print('This is a nice day')\n",
    "else:\n",
    "    print('THis is an ugly day')"
   ]
  },
  {
   "cell_type": "code",
   "execution_count": 36,
   "metadata": {},
   "outputs": [
    {
     "name": "stdout",
     "output_type": "stream",
     "text": [
      "It's odd\n"
     ]
    }
   ],
   "source": [
    "# Even or odd\n",
    "mynumber = 9\n",
    "\n",
    "if mynumber % 2 == 0:\n",
    "    print(\"It's even\")\n",
    "else:\n",
    "    print(\"It's odd\")\n"
   ]
  },
  {
   "cell_type": "code",
   "execution_count": 40,
   "metadata": {},
   "outputs": [],
   "source": [
    "crop  = 'corn'\n",
    "\n",
    "if crop == 'corn':\n",
    "    Tbase = 8\n",
    "elif crop == 'wheat':\n",
    "    Tbase = 0\n",
    "elif crop == 'little bluestem':\n",
    "    Tbase = 10\n",
    "else:\n",
    "    print('Crop not found')\n"
   ]
  },
  {
   "cell_type": "code",
   "execution_count": 39,
   "metadata": {},
   "outputs": [
    {
     "name": "stdout",
     "output_type": "stream",
     "text": [
      "8\n"
     ]
    }
   ],
   "source": [
    "print(Tbase)"
   ]
  }
 ],
 "metadata": {
  "kernelspec": {
   "display_name": "Python 3",
   "language": "python",
   "name": "python3"
  },
  "language_info": {
   "codemirror_mode": {
    "name": "ipython",
    "version": 3
   },
   "file_extension": ".py",
   "mimetype": "text/x-python",
   "name": "python",
   "nbconvert_exporter": "python",
   "pygments_lexer": "ipython3",
   "version": "3.7.0"
  }
 },
 "nbformat": 4,
 "nbformat_minor": 2
}
