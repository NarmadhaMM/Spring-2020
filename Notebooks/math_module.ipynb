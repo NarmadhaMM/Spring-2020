{
 "cells": [
  {
   "cell_type": "markdown",
   "metadata": {},
   "source": [
    "# Math module\n",
    "\n",
    "One of the most useful core Python modules for common algebraic and trigonometric operations."
   ]
  },
  {
   "cell_type": "code",
   "execution_count": 9,
   "metadata": {},
   "outputs": [],
   "source": [
    "import math"
   ]
  },
  {
   "cell_type": "markdown",
   "metadata": {},
   "source": [
    "## Rounding\n",
    "\n",
    "Before we move too far I need to let you know that the math module does not have a round function. The `round()` function is readily available when we start Python without the need for importing the `math` module. However, the `math` module has some handy methods for rounding up and down."
   ]
  },
  {
   "cell_type": "code",
   "execution_count": 13,
   "metadata": {},
   "outputs": [
    {
     "name": "stdout",
     "output_type": "stream",
     "text": [
      "90.8752\n",
      "90.88\n",
      "90\n",
      "91\n"
     ]
    }
   ],
   "source": [
    "value = 90.8752\n",
    "print(value)\n",
    "\n",
    "# The round function\n",
    "print(round(value,2))      # The second argument specifies the number of decimal places\n",
    "\n",
    "print(math.floor(value))   # largest integer smaller than or equal to a given number.\n",
    "print(math.ceil(value))    # smallest integer greater than or equal to a given number.\n"
   ]
  },
  {
   "cell_type": "markdown",
   "metadata": {},
   "source": [
    "## Assign and check for NaNs\n",
    "\n",
    "NaN stands for `not a number` and it is used to represent missing values. `NaN` can be used in regular operations and many advanced functions already ignore `NaN` values (e.g. while computing the average of a set of numbers containing few missing values)."
   ]
  },
  {
   "cell_type": "code",
   "execution_count": 19,
   "metadata": {},
   "outputs": [
    {
     "name": "stdout",
     "output_type": "stream",
     "text": [
      "False\n",
      "True\n"
     ]
    }
   ],
   "source": [
    "nan_value = float(\"Nan\")\n",
    "print(math.isnan(value))   # check if value is NaN\n",
    "print(math.isnan(nan_value)) "
   ]
  },
  {
   "cell_type": "markdown",
   "metadata": {},
   "source": [
    "## Trigonometric operations\n",
    "\n",
    "A really useful feature is that it also provides with common constants such as Pi. It also has a function to compute radians, making this core module an excellent choice for trigonometric operations involving the computation of Euclide distance, perimeter, area, and volume of many geometric objects.\n"
   ]
  },
  {
   "cell_type": "code",
   "execution_count": 10,
   "metadata": {},
   "outputs": [
    {
     "name": "stdout",
     "output_type": "stream",
     "text": [
      "3.141592653589793\n"
     ]
    }
   ],
   "source": [
    "# Pi constant\n",
    "print(math.pi)"
   ]
  },
  {
   "cell_type": "code",
   "execution_count": 12,
   "metadata": {},
   "outputs": [
    {
     "name": "stdout",
     "output_type": "stream",
     "text": [
      "0.05483113556160755\n"
     ]
    }
   ],
   "source": [
    "# Radians\n",
    "print(math.radians(math.pi)) # pi-radians"
   ]
  },
  {
   "cell_type": "code",
   "execution_count": null,
   "metadata": {},
   "outputs": [],
   "source": [
    "# Define a value\n",
    "print(math.cos(value))     # cosine\n",
    "print(math.sin(value))     # sine\n",
    "print(math.cos(0))"
   ]
  },
  {
   "cell_type": "markdown",
   "metadata": {},
   "source": [
    "## Calculate area of a circle\n",
    "\n",
    "A simple example to use the math module"
   ]
  },
  {
   "cell_type": "code",
   "execution_count": 20,
   "metadata": {},
   "outputs": [
    {
     "name": "stdout",
     "output_type": "stream",
     "text": [
      "A circle of 2.5 cm in diameter has an area of 4.9 cm^2\n"
     ]
    }
   ],
   "source": [
    "diameter = 2.5 # cm\n",
    "circle_area = round(math.pi * (diameter/2)**2, 1)\n",
    "print('A circle of {diameter} cm in diameter has an area of {area} cm^2'\n",
    "      .format(diameter=diameter,area=circle_area))"
   ]
  },
  {
   "cell_type": "markdown",
   "metadata": {},
   "source": [
    "## Calculate vapor pressure deficit using math module\n",
    "\n",
    "You can also use the `math` module for many other calculations. The example below for computing the vapor pressure deficit (VPD) based on air temperature and air relative humidity amkes use of the exponential function `math.exp()`. Computing the VPD takes three steps:\n",
    "\n",
    "1. Compute the hypothetical saturated vapor pressure of air\n",
    "\n",
    "2. Compute actual vapor pressure of the air\n",
    "\n",
    "3. The difference between the two is know as the vapor pressure deficit\n"
   ]
  },
  {
   "cell_type": "code",
   "execution_count": 21,
   "metadata": {},
   "outputs": [
    {
     "name": "stdout",
     "output_type": "stream",
     "text": [
      "3.0931886137027216 kPa\n",
      "3.09 kPa\n"
     ]
    }
   ],
   "source": [
    "airTemperature = 35; # Celsius\n",
    "relativeHumidity = 45; # Percent\n",
    "\n",
    "saturatedVaporPressure = 0.611 * math.exp((17.502*airTemperature)/(airTemperature + 240.97)); # kPa\n",
    "actualVaporPressue = saturatedVaporPressure * relativeHumidity/100;\n",
    "\n",
    "vaporPressureDeficit = saturatedVaporPressure - actualVaporPressue\n",
    "print(str(vaporPressureDeficit) + ' kPa')\n",
    "print(str(round(vaporPressureDeficit,2)) + ' kPa')"
   ]
  }
 ],
 "metadata": {
  "kernelspec": {
   "display_name": "Python 3",
   "language": "python",
   "name": "python3"
  },
  "language_info": {
   "codemirror_mode": {
    "name": "ipython",
    "version": 3
   },
   "file_extension": ".py",
   "mimetype": "text/x-python",
   "name": "python",
   "nbconvert_exporter": "python",
   "pygments_lexer": "ipython3",
   "version": "3.7.0"
  }
 },
 "nbformat": 4,
 "nbformat_minor": 4
}
