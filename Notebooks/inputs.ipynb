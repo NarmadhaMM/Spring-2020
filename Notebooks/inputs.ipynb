{
 "cells": [
  {
   "cell_type": "markdown",
   "metadata": {},
   "source": [
    "# Inputs\n",
    "\n",
    "A rather useful feature of Python is its ability to interact with the user to gather information and trigger specific actions. In research this feature can be useful to automate lab routines, reduce data entry errors, and even used for learning and teaching purposes.\n"
   ]
  },
  {
   "cell_type": "markdown",
   "metadata": {},
   "source": [
    "## Sedimentation time\n",
    "\n",
    "The first example is about computing the time that it takes for a particle of a given diameter to settle down in a lake of a given depth using Stoke's law. Stoke's law assumes:\n",
    "\n",
    "- Laminar flow (non-turbulent)\n",
    "- Particles do not interact with each other\n",
    "- Particles are round\n",
    "- Particles settle down at constant velocity (no acceleration, this the terminal velocity). This is the point where drag force and buoyant force are equal to the gravitational force.\n",
    "\n",
    "The terminal velocity $u$ according to Stoke's law is given by:\n",
    "\n",
    "$$ u = \\frac{d^2 \\; g \\; (\\rho_s - \\rho_f)}{18 \\; \\eta}$$"
   ]
  },
  {
   "cell_type": "code",
   "execution_count": 1,
   "metadata": {},
   "outputs": [
    {
     "name": "stdout",
     "output_type": "stream",
     "text": [
      "Typical particle diameters: sand=0.5 mm, silt=0.05 mm, and clay=0.0005 mm\n"
     ]
    },
    {
     "name": "stdin",
     "output_type": "stream",
     "text": [
      "Enter particle diameter (mm): 0.01\n"
     ]
    },
    {
     "name": "stdout",
     "output_type": "stream",
     "text": [
      "Large lake=500 m, small lake=15 to 20 m\n"
     ]
    },
    {
     "name": "stdin",
     "output_type": "stream",
     "text": [
      "Lake depth (m): 20\n"
     ]
    },
    {
     "name": "stdout",
     "output_type": "stream",
     "text": [
      "The sedimentation time is 2 days, 13:46:48\n"
     ]
    }
   ],
   "source": [
    "import datetime\n",
    "\n",
    "# Display some tentative values\n",
    "print('Typical particle diameters: sand=0.5 mm, silt=0.05 mm, and clay=0.0005 mm')\n",
    "\n",
    "# Request particle size\n",
    "diameter = input('Enter particle diameter (mm):')\n",
    "diameter = float(diameter) / 1000 # Convert to meters\n",
    "\n",
    "# Request depth of lake\n",
    "print('Large lake=500 m, small lake=15 to 20 m')\n",
    "lake_depth = input('Lake depth (m):')\n",
    "lake_depth = float(lake_depth)\n",
    "\n",
    "# Compute terminal velocity\n",
    "g = 9.81                   # m/s^2\n",
    "density_solid = 2650       # kg/m^3\n",
    "density_fluid = 1000       # kg/m^3\n",
    "viscosity_fluid = 0.001    # kg/(m s)\n",
    "\n",
    "terminal_velocity = diameter**2 * g * (density_solid-density_fluid)/(18*viscosity_fluid) # m/s\n",
    "sedimentation_seconds = round(lake_depth/terminal_velocity) # seconds\n",
    "\n",
    "# Convert to datetime.timedelta object\n",
    "sedimentation_time = datetime.timedelta(seconds=sedimentation_seconds)\n",
    "\n",
    "# Display result\n",
    "print('The sedimentation time is {time}'.format(time=sedimentation_time))\n"
   ]
  },
  {
   "cell_type": "markdown",
   "metadata": {},
   "source": [
    "## Hydrometer Readings\n",
    "\n",
    "The hydrometer method is one of the most popular methods for soil particle size analysis. The method consists of dispersion a known amount of ground (<2 mm sieve) and dry soil in a solution of de-ionized water with sodium hexametaphosphate (dispersing agent). Readings with a hydrometer are made at specific times according to the particle the diameter that we want to measure and the height of the containing cylinder. These times are calculated based on Stoke's law. In many labs readings are taken at two points to determine the amount of sand, silt, and clay. To build a detailed curve of particle sizes, hydrometer readings need to be made more frequently. As part of the method there is a blank treatment that only contains de-ionized water and sodium hexametaphosphate, but no soil, so that we substract the effect of the dispersig agent from the readings.\n",
    "\n",
    "Learn more about the [hydrometer method](https://www.wikiwand.com/en/Soil_texture)"
   ]
  },
  {
   "cell_type": "code",
   "execution_count": 18,
   "metadata": {},
   "outputs": [
    {
     "name": "stdin",
     "output_type": "stream",
     "text": [
      "Mass of dry soil (g): 40\n",
      "Blank reading (g/L): 4\n",
      "First reading (g): 38\n",
      "Second reading (g): 27\n"
     ]
    },
    {
     "name": "stdout",
     "output_type": "stream",
     "text": [
      "Sand: 5%, Silt: 27%, Clay: 68%\n"
     ]
    }
   ],
   "source": [
    "# Request initial soil mass\n",
    "dry_soil = float(input(\"Mass of dry soil (g):\"))\n",
    "\n",
    "# Blank reading\n",
    "blank_reading = float(input(\"Blank reading (g/L):\"))\n",
    "\n",
    "# First reading\n",
    "first_reading = float(input(\"First reading (g):\"))\n",
    "\n",
    "# Second reading\n",
    "second_reading = float(input(\"Second reading (g):\"))\n",
    "\n",
    "# Calculate percent of sand, silt, and clay\n",
    "# For each soil reading we need to subtract the blank reading\n",
    "sand_content = round((dry_soil - first_reading)/dry_soil*100)\n",
    "clay_content = round(second_reading/dry_soil*100)\n",
    "silt_content = 100 - sand_content - clay_content\n",
    "\n",
    "# Print results to user\n",
    "print('Sand: {sand}%, Silt: {silt}%, Clay: {clay}%'\n",
    "      .format(sand= sand_content, \n",
    "              silt= silt_content, \n",
    "              clay= clay_content))"
   ]
  },
  {
   "cell_type": "markdown",
   "metadata": {},
   "source": [
    "## Comment\n",
    "\n",
    "I often get the question on how to add subscripts and superscripts to display exponents and units in the printed strings. This is possible using Unicode, but it adds an unnecessary layer of complexity that is probably not worth in most cases, but below I added is a basic example:"
   ]
  },
  {
   "cell_type": "code",
   "execution_count": 20,
   "metadata": {},
   "outputs": [
    {
     "name": "stdout",
     "output_type": "stream",
     "text": [
      "Bulk density =  1.45 g/cm³\n"
     ]
    }
   ],
   "source": [
    "print(\"Bulk density = \", 1.45, 'g/cm' + chr(0x00B3))"
   ]
  }
 ],
 "metadata": {
  "kernelspec": {
   "display_name": "Python 3",
   "language": "python",
   "name": "python3"
  },
  "language_info": {
   "codemirror_mode": {
    "name": "ipython",
    "version": 3
   },
   "file_extension": ".py",
   "mimetype": "text/x-python",
   "name": "python",
   "nbconvert_exporter": "python",
   "pygments_lexer": "ipython3",
   "version": "3.7.0"
  }
 },
 "nbformat": 4,
 "nbformat_minor": 2
}
